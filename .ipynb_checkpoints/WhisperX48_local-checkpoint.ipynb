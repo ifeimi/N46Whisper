{
 "cells": [
  {
   "cell_type": "markdown",
   "metadata": {},
   "source": [
    "# WhisperX48_local: 用于本地运行WhisperX48的Jupyter Notebook脚本\n"
   ]
  },
  {
   "cell_type": "code",
   "execution_count": 2,
   "metadata": {
    "cellView": "form",
    "id": "z0igG7ruI-7q",
    "scrolled": false
   },
   "outputs": [
    {
     "name": "stdout",
     "output_type": "stream",
     "text": [
      "加载Whisper模型 Loading Whisper model...\n",
      "识别中 Transcribe in progress...\n",
      "加载调整模型 Load alignment model...\n",
      "调整识别结果 Align whisper output...\n",
      "识别完毕 Done\n",
      "Time consumpution 148.8681149482727 s\n"
     ]
    },
    {
     "ename": "FileNotFoundError",
     "evalue": "[Errno 2] No such file or directory: 'files/files/sample1.wav.srt'",
     "output_type": "error",
     "traceback": [
      "\u001b[0;31m---------------------------------------------------------------------------\u001b[0m",
      "\u001b[0;31mFileNotFoundError\u001b[0m                         Traceback (most recent call last)",
      "\u001b[0;32m/var/folders/8l/dg8yw9yx4x1c7100rgvflsbc0000gn/T/ipykernel_34876/396681414.py\u001b[0m in \u001b[0;36m<module>\u001b[0;34m\u001b[0m\n\u001b[1;32m     60\u001b[0m \u001b[0;31m#Write SRT file\u001b[0m\u001b[0;34m\u001b[0m\u001b[0;34m\u001b[0m\u001b[0m\n\u001b[1;32m     61\u001b[0m \u001b[0;32mfrom\u001b[0m \u001b[0mwhisperx\u001b[0m\u001b[0;34m.\u001b[0m\u001b[0mutils\u001b[0m \u001b[0;32mimport\u001b[0m \u001b[0mwrite_srt\u001b[0m\u001b[0;34m\u001b[0m\u001b[0;34m\u001b[0m\u001b[0m\n\u001b[0;32m---> 62\u001b[0;31m \u001b[0;32mwith\u001b[0m \u001b[0mopen\u001b[0m\u001b[0;34m(\u001b[0m\u001b[0mPath\u001b[0m\u001b[0;34m(\u001b[0m\u001b[0moutput_dir\u001b[0m\u001b[0;34m)\u001b[0m \u001b[0;34m/\u001b[0m \u001b[0;34m(\u001b[0m\u001b[0maudio_file\u001b[0m \u001b[0;34m+\u001b[0m \u001b[0;34m\".srt\"\u001b[0m\u001b[0;34m)\u001b[0m\u001b[0;34m,\u001b[0m \u001b[0;34m\"w\"\u001b[0m\u001b[0;34m,\u001b[0m \u001b[0mencoding\u001b[0m\u001b[0;34m=\u001b[0m\u001b[0;34m\"utf-8\"\u001b[0m\u001b[0;34m)\u001b[0m \u001b[0;32mas\u001b[0m \u001b[0msrt\u001b[0m\u001b[0;34m:\u001b[0m\u001b[0;34m\u001b[0m\u001b[0;34m\u001b[0m\u001b[0m\n\u001b[0m\u001b[1;32m     63\u001b[0m     \u001b[0mwrite_srt\u001b[0m\u001b[0;34m(\u001b[0m\u001b[0mresult\u001b[0m\u001b[0;34m[\u001b[0m\u001b[0;34m\"segments\"\u001b[0m\u001b[0;34m]\u001b[0m\u001b[0;34m,\u001b[0m \u001b[0mfile\u001b[0m\u001b[0;34m=\u001b[0m\u001b[0msrt\u001b[0m\u001b[0;34m)\u001b[0m\u001b[0;34m\u001b[0m\u001b[0;34m\u001b[0m\u001b[0m\n\u001b[1;32m     64\u001b[0m \u001b[0mprint\u001b[0m\u001b[0;34m(\u001b[0m\u001b[0;34m'字幕生成完毕 Subtitle generated!'\u001b[0m\u001b[0;34m)\u001b[0m\u001b[0;34m\u001b[0m\u001b[0;34m\u001b[0m\u001b[0m\n",
      "\u001b[0;31mFileNotFoundError\u001b[0m: [Errno 2] No such file or directory: 'files/files/sample1.wav.srt'"
     ]
    }
   ],
   "source": [
    "'''\n",
    "This script is referenced and modified minorly from Ayanaminn's N46Whisper project under MIT license. \n",
    "\n",
    "MIT License\n",
    "\n",
    "Copyright (c) 2022 Ayanaminn\n",
    "\n",
    "Permission is hereby granted, free of charge, to any person obtaining a copy of this software and associated documentation files (the \"Software\"), to deal in the Software without restriction, including without limitation the rights to use, copy, modify, merge, publish, distribute, sublicense, and/or sell copies of the Software, and to permit persons to whom the Software is furnished to do so, subject to the following conditions:\n",
    "\n",
    "The above copyright notice and this permission notice shall be included in all copies or substantial portions of the Software.\n",
    "\n",
    "THE SOFTWARE IS PROVIDED \"AS IS\", WITHOUT WARRANTY OF ANY KIND, EXPRESS OR IMPLIED, INCLUDING BUT NOT LIMITED TO THE WARRANTIES OF MERCHANTABILITY, FITNESS FOR A PARTICULAR PURPOSE AND NONINFRINGEMENT. IN NO EVENT SHALL THE AUTHORS OR COPYRIGHT HOLDERS BE LIABLE FOR ANY CLAIM, DAMAGES OR OTHER LIABILITY, WHETHER IN AN ACTION OF CONTRACT, TORT OR OTHERWISE, ARISING FROM, OUT OF OR IN CONNECTION WITH THE SOFTWARE OR THE USE OR OTHER DEALINGS IN THE SOFTWARE.\n",
    "'''\n",
    "\n",
    "import os\n",
    "import ffmpeg\n",
    "import subprocess\n",
    "import torch\n",
    "import whisperx\n",
    "import whisper\n",
    "import time\n",
    "from pathlib import Path\n",
    "import sys\n",
    "\n",
    "\n",
    "model_size = \"small\"  # @param [\"base\",\"small\",\"medium\", \"large\"]\n",
    "language = \"ja\"  # @param {type:\"string\"}\n",
    "#sub_style = \"default\"  # @param [\"default\", \"ikedaCN\", \"kaedeCN\",\"sugawaraCN\"]\n",
    "#compression_ratio_threshold = 2.4 # @param {type:\"number\"}\n",
    "#no_speech_threshold = 0.6 # @param {type:\"number\"}\n",
    "#logprob_threshold = -1.0 # @param {type:\"number\"}\n",
    "#condition_on_previous_text = \"True\" # @param [\"True\", \"False\"]\n",
    "\n",
    "output_dir = \"./files/\"  # 默认的音频文件输入和字幕文件输出路径 Path for input audio file and output subtitle by default\n",
    "file_name = \"sample1.wav\"  # 在这里输入音频文件名 Name of the audio file\n",
    "audio_file = output_dir + file_name\n",
    "\n",
    "device = \"cpu\"\n",
    "print('加载Whisper模型 Loading Whisper model...')\n",
    "model = whisper.load_model(model_size, device)\n",
    "\n",
    "#Original whisper transcribe\n",
    "tic = time.time()\n",
    "print('识别中 Transcribe in progress...')\n",
    "result = model.transcribe(audio_file, language =language)\n",
    "\n",
    "#Load alignment model and metadata\n",
    "print('加载调整模型 Load alignment model...')\n",
    "#model_id = \"jonatasgrosman/wav2vec2-large-xlsr-53-japanese\"\n",
    "model_a, metadata = whisperx.load_align_model(language_code=result[\"language\"], device=device)\n",
    "\n",
    "#Align whisper output\n",
    "print('调整识别结果 Align whisper output...')\n",
    "result_aligned = whisperx.align(result[\"segments\"], model_a, metadata, audio_file, device)\n",
    "\n",
    "toc = time.time()\n",
    "print('识别完毕 Done')\n",
    "print(f'Time consumpution {toc-tic} s')\n",
    "\n",
    "#Write SRT file\n",
    "from whisperx.utils import write_srt\n",
    "with open(audio_file + \".srt\", \"w\", encoding=\"utf-8\") as srt:\n",
    "    write_srt(result[\"segments\"], file=srt)\n",
    "print('字幕生成完毕 Subtitle generated!')"
   ]
  },
  {
   "cell_type": "markdown",
   "metadata": {},
   "source": [
    "<font size=\"2\">  \n",
    "\n",
    "Last modified 2023-03-08  \n",
    "  \n",
    "Author: ifeimi ♢ Email me: yfwu0202 AT gmail.com\n",
    "\n"
   ]
  },
  {
   "cell_type": "code",
   "execution_count": null,
   "metadata": {},
   "outputs": [],
   "source": []
  }
 ],
 "metadata": {
  "accelerator": "GPU",
  "colab": {
   "provenance": []
  },
  "gpuClass": "standard",
  "kernelspec": {
   "display_name": "Python 3 (ipykernel)",
   "language": "python",
   "name": "python3"
  },
  "language_info": {
   "codemirror_mode": {
    "name": "ipython",
    "version": 3
   },
   "file_extension": ".py",
   "mimetype": "text/x-python",
   "name": "python",
   "nbconvert_exporter": "python",
   "pygments_lexer": "ipython3",
   "version": "3.9.13"
  }
 },
 "nbformat": 4,
 "nbformat_minor": 1
}
