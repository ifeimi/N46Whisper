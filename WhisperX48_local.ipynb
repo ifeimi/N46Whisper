{
 "cells": [
  {
   "attachments": {},
   "cell_type": "markdown",
   "metadata": {},
   "source": [
    "# WhisperX48_local: 用于本地运行WhisperX48的Jupyter Notebook脚本\n"
   ]
  },
  {
   "cell_type": "code",
   "execution_count": null,
   "metadata": {
    "cellView": "form",
    "id": "z0igG7ruI-7q",
    "scrolled": false
   },
   "outputs": [],
   "source": [
    "import os\n",
    "import ffmpeg\n",
    "import subprocess\n",
    "import torch\n",
    "import whisperx\n",
    "import time\n",
    "from pathlib import Path\n",
    "import sys\n",
    "\n",
    "\n",
    "model_path = \"\"  # To prevent having to download a model every time, faster-whisper model should be already put in a local directory\n",
    "language = \"ja\"  # @param [\"ja\",\"zh\",\"en\",\"fr\", \"de\",\"es\",\"it\",\"pt\",\"ru\"]\n",
    "\n",
    "max_line_width = 1000 # @param {type:\"number\"}\n",
    "max_line_count = 1 # @param {type:\"number\"}\n",
    "highlight_words = False # @param [\"False\",\"True\"]\n",
    "\n",
    "output_dir = \"./files/\"  # 默认的音频文件输入和字幕文件输出路径 Path for input audio file and output subtitle by default\n",
    "file_name = output_dir + \"sample1.wav\"  # 在这里输入音频文件名 Name of the audio file\n",
    "audio_file = f'{file_name}'\n",
    "file_basename = file_name.split('.')[0]\n",
    "\n",
    "device = \"cuda\"\n",
    "torch.cuda.empty_cache()\n",
    "print('加载模型 Loading model...')\n",
    "model = whisperx.load_model(model_path, device, language= language)\n",
    "audio = whisperx.load_audio(audio_file)\n",
    "\n",
    "# Original whisper transcribe\n",
    "tic = time.time()\n",
    "print('识别中 Transcribe in progress...')\n",
    "result = model.transcribe(audio, batch_size= 8)\n",
    "print('语音转录完成 Transcribing completed')\n",
    "\n",
    "#Write SRT file\n",
    "options = {\"max_line_width\":max_line_width,\"max_line_count\":max_line_count,\"highlight_words\":highlight_words}\n",
    "from whisperx.utils import WriteSRT\n",
    "filename_srt = file_basename + \"_transcribe.srt\"\n",
    "with open(filename_srt, \"w\", encoding=\"utf-8\") as srt:\n",
    "    srt_writer = WriteSRT(filename_srt)\n",
    "    srt_writer.write_result(result, srt, options)\n",
    "\n",
    "# Load alignment model and metadata\n",
    "print('加载调整模型 Load alignment model...')\n",
    "# model_id = \"jonatasgrosman/wav2vec2-large-xlsr-53-japanese\"\n",
    "alignment_model, metadata = whisperx.load_align_model(language_code= language, device= device)\n",
    "\n",
    "# Align whisper output\n",
    "print('调整识别结果 Align whisper output...')\n",
    "result_aligned = whisperx.align(result[\"segments\"], alignment_model, metadata, audio, device)\n",
    "\n",
    "toc = time.time()\n",
    "print('调整完毕 Alignment done')\n",
    "print(f'Time consumpution {toc-tic} s')\n",
    "del alignment_model\n",
    "torch.cuda.empty_cache()\n",
    "\n",
    "#Write SRT file\n",
    "filename_srt = file_basename + \"_align.srt\"\n",
    "with open(filename_srt, \"w\", encoding=\"utf-8\") as srt:\n",
    "    srt_writer = WriteSRT(filename_srt)\n",
    "    srt_writer.write_result(result_aligned, srt, options)\n",
    "\n",
    "#Write JSON file\n",
    "from whisperx.utils import WriteJSON\n",
    "filename_json = file_basename + \"_align.json\"\n",
    "with open(filename_json, \"w\", encoding=\"utf-8\") as json:\n",
    "    json_writer = WriteJSON(filename_json)\n",
    "    json_writer.write_result(result, json, options)\n",
    "\n",
    "print('字幕生成完毕 Subtitle generated!')"
   ]
  },
  {
   "attachments": {},
   "cell_type": "markdown",
   "metadata": {},
   "source": [
    "<font size=\"2\">  \n",
    "\n",
    "Last modified 2023-05-08  \n",
    "Haven't checked yet  \n",
    "  \n",
    "Author: ifeimi ♢ Email me: yfwu0202 AT gmail dot com  "
   ]
  }
 ],
 "metadata": {
  "accelerator": "GPU",
  "colab": {
   "provenance": []
  },
  "gpuClass": "standard",
  "kernelspec": {
   "display_name": "Python 3 (ipykernel)",
   "language": "python",
   "name": "python3"
  },
  "language_info": {
   "codemirror_mode": {
    "name": "ipython",
    "version": 3
   },
   "file_extension": ".py",
   "mimetype": "text/x-python",
   "name": "python",
   "nbconvert_exporter": "python",
   "pygments_lexer": "ipython3",
   "version": "3.9.13"
  }
 },
 "nbformat": 4,
 "nbformat_minor": 1
}
